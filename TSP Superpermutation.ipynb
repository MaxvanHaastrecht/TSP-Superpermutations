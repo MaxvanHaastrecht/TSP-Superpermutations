{
 "cells": [
  {
   "cell_type": "markdown",
   "id": "567318ff",
   "metadata": {},
   "source": [
    "## 1. Calculate the cost matrix"
   ]
  },
  {
   "cell_type": "markdown",
   "id": "e9f2480d",
   "metadata": {},
   "source": [
    "First, define the permutation length you are interested in. Anything below 6 should be doable, but a length of 5 could already take up to 20 minutes to find a reasonable solution (depending on your laptop)."
   ]
  },
  {
   "cell_type": "code",
   "execution_count": 1,
   "id": "73337c56",
   "metadata": {},
   "outputs": [],
   "source": [
    "PERM_LENGTH = 3"
   ]
  },
  {
   "cell_type": "markdown",
   "id": "e79e38f5",
   "metadata": {},
   "source": [
    "Now, we define the functions needed to calculate the cost, or distance, matrix."
   ]
  },
  {
   "cell_type": "code",
   "execution_count": 2,
   "id": "15e6dfc3",
   "metadata": {},
   "outputs": [],
   "source": [
    "def hamming_distance(s_1, s_2):\n",
    "    \n",
    "    return sum((char_1 != char_2) for char_1, char_2 in zip(s_1, s_2))\n",
    "\n",
    "def calculate_cost(p_1, p_2):\n",
    "    \n",
    "    p_length = len(p_1)\n",
    "    \n",
    "    # Initiate cost at length of permutation\n",
    "    cost = p_length\n",
    "    \n",
    "    # Check for equality at each offset\n",
    "    for offset in range(p_length):\n",
    "        \n",
    "        # When hamming distance is 0, we have found cost\n",
    "        if hamming_distance(p_1[offset:], p_2[:p_length - offset]) == 0:\n",
    "            \n",
    "            cost = offset\n",
    "            \n",
    "            break\n",
    "            \n",
    "    return cost\n",
    "\n",
    "def calculate_cost_matrix(all_perms):\n",
    "    \n",
    "    size = len(all_perms)\n",
    "    \n",
    "    C = {}\n",
    "    \n",
    "    for i in range(size):\n",
    "        \n",
    "        perm_i = all_perms[i]\n",
    "        \n",
    "        for j in range(size):\n",
    "            \n",
    "            perm_j = all_perms[j]\n",
    "            \n",
    "            C[perm_i, perm_j] = calculate_cost(perm_i, perm_j)\n",
    "    \n",
    "    return C"
   ]
  },
  {
   "cell_type": "markdown",
   "id": "fbee9764",
   "metadata": {},
   "source": [
    "Create a permutations list and calculate the cost matrix."
   ]
  },
  {
   "cell_type": "code",
   "execution_count": 3,
   "id": "4c65d123",
   "metadata": {},
   "outputs": [
    {
     "name": "stdout",
     "output_type": "stream",
     "text": [
      "There are 6 permutations of length 3\n"
     ]
    }
   ],
   "source": [
    "import itertools\n",
    "\n",
    "# Create list of all permutations\n",
    "index_list = [str(i + 1) for i in range(PERM_LENGTH)]\n",
    "\n",
    "permutations = [''.join(x) for x in itertools.permutations(index_list)]\n",
    "\n",
    "# Check length permutations list\n",
    "n_perm = len(permutations)\n",
    "print('There are ' + str(n_perm) + ' permutations of length ' + str(PERM_LENGTH))"
   ]
  },
  {
   "cell_type": "code",
   "execution_count": 4,
   "id": "a3bad23b",
   "metadata": {},
   "outputs": [],
   "source": [
    "# Calculate cost_dict\n",
    "cost_dict = calculate_cost_matrix(permutations)"
   ]
  },
  {
   "cell_type": "markdown",
   "id": "2dd516a3",
   "metadata": {},
   "source": [
    "## 2. Create and solve PuLP model"
   ]
  },
  {
   "cell_type": "markdown",
   "id": "a7cace47",
   "metadata": {},
   "source": [
    "Import the PuLP library and define the TSP model."
   ]
  },
  {
   "cell_type": "code",
   "execution_count": 5,
   "id": "b957fbf7",
   "metadata": {},
   "outputs": [],
   "source": [
    "import pulp as pl\n",
    "\n",
    "# Define PuLP model\n",
    "model = pl.LpProblem('TSP', pl.LpMinimize)\n",
    "\n",
    "# Define binary variables\n",
    "x = pl.LpVariable.dicts('x', ((i, j) for i in range(n_perm) for j in range(n_perm)), cat = 'Binary')\n",
    "\n",
    "# Define dummy variables for subtour elimination\n",
    "t = pl.LpVariable.dicts('t', (i for i in range(n_perm)), lowBound = 1, upBound = n_perm - 1, cat = 'Integer')\n",
    "\n",
    "# Set the objective function\n",
    "model += pl.lpSum(cost_dict[permutations[i], permutations[j]] * x[i, j] for i in range(n_perm) for j in range(n_perm))\n",
    "\n",
    "# Define the constraints\n",
    "for i in range(n_perm):\n",
    "    \n",
    "    # Do not allow loops\n",
    "    model += x[i, i] == 0\n",
    "\n",
    "for i in range(n_perm):\n",
    "    \n",
    "    # Exactly one outgoing edge\n",
    "    model += pl.lpSum(x[i, j] for j in range(n_perm)) == 1\n",
    "    \n",
    "    # Exactly one incoming edge\n",
    "    model += pl.lpSum(x[j, i] for j in range(n_perm)) == 1\n",
    "    \n",
    "    for j in range(n_perm):\n",
    "        # Add subtour constraints, using n_perm as large number\n",
    "        if i != j and (i != 0 and j != 0):\n",
    "            \n",
    "            # Time must be greater if node visited later\n",
    "            model += t[j] - t[i] + n_perm * (1 - x[i, j]) >= 1"
   ]
  },
  {
   "cell_type": "markdown",
   "id": "35ce41f9",
   "metadata": {},
   "source": [
    "Solve the PuLP model using a solver. Here we use Gurobi, but if you do not have a Gurobi license, consider using one of the other [solvers](https://coin-or.github.io/pulp/guides/how_to_configure_solvers.html) available via PuLP."
   ]
  },
  {
   "cell_type": "code",
   "execution_count": 6,
   "id": "7c724c6e",
   "metadata": {},
   "outputs": [
    {
     "name": "stdout",
     "output_type": "stream",
     "text": [
      "Set parameter Username\n",
      "Academic license - for non-commercial use only - expires 2022-01-20\n",
      "Set parameter TimeLimit to value 60\n",
      "Gurobi Optimizer version 9.5.0 build v9.5.0rc5 (win64)\n",
      "Thread count: 4 physical cores, 8 logical processors, using up to 8 threads\n",
      "Optimize a model with 38 rows, 41 columns and 138 nonzeros\n",
      "Model fingerprint: 0x0993ea02\n",
      "Variable types: 0 continuous, 41 integer (0 binary)\n",
      "Coefficient statistics:\n",
      "  Matrix range     [1e+00, 6e+00]\n",
      "  Objective range  [1e+00, 3e+00]\n",
      "  Bounds range     [1e+00, 5e+00]\n",
      "  RHS range        [1e+00, 5e+00]\n",
      "Found heuristic solution: objective 14.0000000\n",
      "Presolve removed 6 rows and 6 columns\n",
      "Presolve time: 0.00s\n",
      "Presolved: 32 rows, 35 columns, 120 nonzeros\n",
      "Variable types: 0 continuous, 35 integer (30 binary)\n",
      "\n",
      "Root relaxation: objective 6.600000e+00, 14 iterations, 0.00 seconds (0.00 work units)\n",
      "\n",
      "    Nodes    |    Current Node    |     Objective Bounds      |     Work\n",
      " Expl Unexpl |  Obj  Depth IntInf | Incumbent    BestBd   Gap | It/Node Time\n",
      "\n",
      "     0     0    6.60000    0    6   14.00000    6.60000  52.9%     -    0s\n",
      "H    0     0                      11.0000000    6.60000  40.0%     -    0s\n",
      "H    0     0                       8.0000000    6.60000  17.5%     -    0s\n",
      "\n",
      "Cutting planes:\n",
      "  Gomory: 1\n",
      "\n",
      "Explored 1 nodes (14 simplex iterations) in 0.02 seconds (0.00 work units)\n",
      "Thread count was 8 (of 8 available processors)\n",
      "\n",
      "Solution count 3: 8 11 14 \n",
      "\n",
      "Optimal solution found (tolerance 1.00e-04)\n",
      "Best objective 8.000000000000e+00, best bound 8.000000000000e+00, gap 0.0000%\n",
      "Gurobi status= 2\n"
     ]
    },
    {
     "data": {
      "text/plain": [
       "(1, 'Optimal', 8.0)"
      ]
     },
     "execution_count": 6,
     "metadata": {},
     "output_type": "execute_result"
    }
   ],
   "source": [
    "# Solve the problem, here Gurobi is used\n",
    "status = model.solve(pl.GUROBI(timeLimit = 60))\n",
    "\n",
    "# Display the status and the objective function value\n",
    "status, pl.LpStatus[status], pl.value(model.objective)"
   ]
  },
  {
   "cell_type": "markdown",
   "id": "01338560",
   "metadata": {},
   "source": [
    "## 3. Store and analyse the solution"
   ]
  },
  {
   "cell_type": "markdown",
   "id": "e16f0798",
   "metadata": {},
   "source": [
    "Store the solution (if you found one) to visualise and analyse it."
   ]
  },
  {
   "cell_type": "code",
   "execution_count": 7,
   "id": "f4c4f0b2",
   "metadata": {},
   "outputs": [],
   "source": [
    "source_list = []\n",
    "target_list = []\n",
    "cost_list = []\n",
    "\n",
    "for i in range(n_perm):\n",
    "    \n",
    "    source = permutations[i]\n",
    "    \n",
    "    for j in range(n_perm):\n",
    "        \n",
    "        target = permutations[j]\n",
    "        \n",
    "        # Store all edges with a value of 1\n",
    "        if x[i, j].value() == 1.0:\n",
    "            \n",
    "            source_list.append(source)\n",
    "            target_list.append(target)\n",
    "            \n",
    "            cost = cost_dict[source, target]\n",
    "            cost_list.append(cost)"
   ]
  },
  {
   "cell_type": "markdown",
   "id": "cb086e38",
   "metadata": {},
   "source": [
    "Storing the solution in a dataframe is the easiest way to facilitate visualisation."
   ]
  },
  {
   "cell_type": "code",
   "execution_count": 8,
   "id": "b5a3c7b8",
   "metadata": {},
   "outputs": [
    {
     "data": {
      "text/html": [
       "<div>\n",
       "<style scoped>\n",
       "    .dataframe tbody tr th:only-of-type {\n",
       "        vertical-align: middle;\n",
       "    }\n",
       "\n",
       "    .dataframe tbody tr th {\n",
       "        vertical-align: top;\n",
       "    }\n",
       "\n",
       "    .dataframe thead th {\n",
       "        text-align: right;\n",
       "    }\n",
       "</style>\n",
       "<table border=\"1\" class=\"dataframe\">\n",
       "  <thead>\n",
       "    <tr style=\"text-align: right;\">\n",
       "      <th></th>\n",
       "      <th>source</th>\n",
       "      <th>target</th>\n",
       "      <th>value</th>\n",
       "    </tr>\n",
       "  </thead>\n",
       "  <tbody>\n",
       "    <tr>\n",
       "      <th>0</th>\n",
       "      <td>123</td>\n",
       "      <td>231</td>\n",
       "      <td>1</td>\n",
       "    </tr>\n",
       "    <tr>\n",
       "      <th>1</th>\n",
       "      <td>132</td>\n",
       "      <td>321</td>\n",
       "      <td>1</td>\n",
       "    </tr>\n",
       "    <tr>\n",
       "      <th>2</th>\n",
       "      <td>213</td>\n",
       "      <td>132</td>\n",
       "      <td>1</td>\n",
       "    </tr>\n",
       "    <tr>\n",
       "      <th>3</th>\n",
       "      <td>231</td>\n",
       "      <td>312</td>\n",
       "      <td>1</td>\n",
       "    </tr>\n",
       "    <tr>\n",
       "      <th>4</th>\n",
       "      <td>312</td>\n",
       "      <td>213</td>\n",
       "      <td>2</td>\n",
       "    </tr>\n",
       "    <tr>\n",
       "      <th>5</th>\n",
       "      <td>321</td>\n",
       "      <td>123</td>\n",
       "      <td>2</td>\n",
       "    </tr>\n",
       "  </tbody>\n",
       "</table>\n",
       "</div>"
      ],
      "text/plain": [
       "  source target  value\n",
       "0    123    231      1\n",
       "1    132    321      1\n",
       "2    213    132      1\n",
       "3    231    312      1\n",
       "4    312    213      2\n",
       "5    321    123      2"
      ]
     },
     "execution_count": 8,
     "metadata": {},
     "output_type": "execute_result"
    }
   ],
   "source": [
    "import pandas as pd\n",
    "\n",
    "# Store dataframe of solution\n",
    "df = pd.DataFrame()\n",
    "\n",
    "df['source'] = source_list\n",
    "df['target'] = target_list\n",
    "df['value'] = cost_list\n",
    "\n",
    "df.head(10)"
   ]
  },
  {
   "cell_type": "markdown",
   "id": "c4ffad86",
   "metadata": {},
   "source": [
    "Create a networkx graph of your solution."
   ]
  },
  {
   "cell_type": "code",
   "execution_count": 9,
   "id": "5af03efa",
   "metadata": {},
   "outputs": [],
   "source": [
    "# Store as networkx graph\n",
    "import networkx as nx\n",
    "\n",
    "G = nx.from_pandas_edgelist(df, source = 'source', target = 'target', edge_attr = 'value')"
   ]
  },
  {
   "cell_type": "markdown",
   "id": "1b989272",
   "metadata": {},
   "source": [
    "You can now visualise the solution in an interactive HTML page!"
   ]
  },
  {
   "cell_type": "code",
   "execution_count": 10,
   "id": "5586a2cd",
   "metadata": {},
   "outputs": [
    {
     "data": {
      "text/html": [
       "\n",
       "        <iframe\n",
       "            width=\"800\"\n",
       "            height=\"800\"\n",
       "            src=\"solution.html\"\n",
       "            frameborder=\"0\"\n",
       "            allowfullscreen\n",
       "            \n",
       "        ></iframe>\n",
       "        "
      ],
      "text/plain": [
       "<IPython.lib.display.IFrame at 0x1db65559b88>"
      ]
     },
     "execution_count": 10,
     "metadata": {},
     "output_type": "execute_result"
    }
   ],
   "source": [
    "# Create html of network\n",
    "from pyvis.network import Network\n",
    "\n",
    "net = Network(height = 800, width = 800, notebook = True, directed = True)\n",
    "\n",
    "net.from_nx(G)\n",
    "\n",
    "net.show('solution.html')"
   ]
  }
 ],
 "metadata": {
  "kernelspec": {
   "display_name": "Python 3",
   "language": "python",
   "name": "python3"
  },
  "language_info": {
   "codemirror_mode": {
    "name": "ipython",
    "version": 3
   },
   "file_extension": ".py",
   "mimetype": "text/x-python",
   "name": "python",
   "nbconvert_exporter": "python",
   "pygments_lexer": "ipython3",
   "version": "3.7.11"
  }
 },
 "nbformat": 4,
 "nbformat_minor": 5
}
